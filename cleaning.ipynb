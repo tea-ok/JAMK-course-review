{
 "cells": [
  {
   "cell_type": "markdown",
   "metadata": {},
   "source": [
    "# Data Cleaning and Preparation"
   ]
  },
  {
   "cell_type": "markdown",
   "metadata": {},
   "source": [
    "### Taking a look at the data, and preparing it for insertion into a database."
   ]
  },
  {
   "cell_type": "markdown",
   "metadata": {},
   "source": [
    "I initially thought I'd have to scrape the site, but it turns out that the server's response containing the data is viewable in the browser's developer tools. I filtered by English-language Bachelor's courses and copied the `graphql` response into [english_bachelor_courses.json](./english_bachelor_courses.json)."
   ]
  },
  {
   "cell_type": "code",
   "execution_count": 53,
   "metadata": {},
   "outputs": [],
   "source": [
    "import pandas as pd\n",
    "import json"
   ]
  },
  {
   "cell_type": "code",
   "execution_count": 54,
   "metadata": {},
   "outputs": [
    {
     "name": "stdout",
     "output_type": "stream",
     "text": [
      "Number of courses: 452\n"
     ]
    }
   ],
   "source": [
    "with open('english_bachelor_courses.json') as f:\n",
    "    data = json.load(f)\n",
    "\n",
    "courses_df = pd.json_normalize(data['data']['searchRealizations'])\n",
    "courses_df.head()\n",
    "print(f'Number of courses: {len(courses_df)}')"
   ]
  },
  {
   "cell_type": "markdown",
   "metadata": {},
   "source": [
    "Renaming columns to conform to SQL naming conventions:"
   ]
  },
  {
   "cell_type": "code",
   "execution_count": 55,
   "metadata": {},
   "outputs": [],
   "source": [
    "courses_df.rename(columns={'__typename': 'type_name', 'timing.start': 'timing_start', 'timing.end': 'timing_end',\n",
    "                            'enrollment.start': 'enrollment_start', 'enrollment.end': 'enrollment_end'}, inplace=True)"
   ]
  },
  {
   "cell_type": "markdown",
   "metadata": {},
   "source": [
    "Checking to see if `id` and `code` are always the same, if they are we can drop `code`:"
   ]
  },
  {
   "cell_type": "code",
   "execution_count": 56,
   "metadata": {},
   "outputs": [
    {
     "name": "stdout",
     "output_type": "stream",
     "text": [
      "Number of rows where id and code are not equal: 0\n"
     ]
    }
   ],
   "source": [
    "rows_where_unequal = len(courses_df[courses_df['id'] != courses_df['code']])\n",
    "print(f'Number of rows where id and code are not equal: {rows_where_unequal}')"
   ]
  },
  {
   "cell_type": "code",
   "execution_count": 57,
   "metadata": {},
   "outputs": [],
   "source": [
    "courses_df.drop(columns=['code'], inplace=True)"
   ]
  },
  {
   "cell_type": "code",
   "execution_count": 58,
   "metadata": {},
   "outputs": [
    {
     "data": {
      "text/plain": [
       "id                                                      TLLY3500-3009\n",
       "title                                           Logistics Simulations\n",
       "credits                                                             5\n",
       "degreeProgrammes    [{'id': '5284', 'title': 'Bachelor's Degree Pr...\n",
       "studentGroups       [{'id': '143487', 'code': 'ZJATLS23SMM', 'titl...\n",
       "type_name                                                 Realization\n",
       "timing_start                                               2024-01-08\n",
       "timing_end                                                 2024-05-20\n",
       "enrollment_start                                           2023-11-20\n",
       "enrollment_end                                             2024-01-04\n",
       "Name: 0, dtype: object"
      ]
     },
     "execution_count": 58,
     "metadata": {},
     "output_type": "execute_result"
    }
   ],
   "source": [
    "courses_df.iloc[0]"
   ]
  },
  {
   "cell_type": "code",
   "execution_count": 59,
   "metadata": {},
   "outputs": [
    {
     "data": {
      "text/plain": [
       "[{'id': '5284',\n",
       "  'title': \"Bachelor's Degree Programme in Logistics\",\n",
       "  '__typename': 'DegreeProgramme'}]"
      ]
     },
     "execution_count": 59,
     "metadata": {},
     "output_type": "execute_result"
    }
   ],
   "source": [
    "courses_df.iloc[0]['degreeProgrammes']"
   ]
  },
  {
   "cell_type": "code",
   "execution_count": 60,
   "metadata": {},
   "outputs": [
    {
     "data": {
      "text/plain": [
       "[{'id': '143487',\n",
       "  'code': 'ZJATLS23SMM',\n",
       "  'title': 'Avoin amk, Logistiikka, Monimuoto',\n",
       "  '__typename': 'StudentGroup'},\n",
       " {'id': '131534',\n",
       "  'code': 'TLS23SMM',\n",
       "  'title': 'Logistiikka - tutkinto-ohjelma (AMK)',\n",
       "  '__typename': 'StudentGroup'}]"
      ]
     },
     "execution_count": 60,
     "metadata": {},
     "output_type": "execute_result"
    }
   ],
   "source": [
    "courses_df.iloc[0]['studentGroups']"
   ]
  },
  {
   "cell_type": "code",
   "execution_count": 61,
   "metadata": {},
   "outputs": [],
   "source": [
    "degreeProgrammes_courses_data = []\n",
    "studentGroups_courses_data = []\n",
    "\n",
    "for index, row in courses_df.iterrows():\n",
    "    for degreeProgramme in row['degreeProgrammes']:\n",
    "        degreeProgrammes_courses_data.append({'id': degreeProgramme['id'], 'name': degreeProgramme['title'], 'course_id': row['id']})\n",
    "\n",
    "    for studentGroup in row['studentGroups']:\n",
    "        studentGroups_courses_data.append({'id': studentGroup['id'], 'code': studentGroup['code'], 'name': studentGroup['title'],\n",
    "                                            'type_name': studentGroup['__typename'], 'course_id': row['id']})\n",
    "\n",
    "degree_programmes_df = pd.DataFrame(degreeProgrammes_courses_data)\n",
    "student_groups_df = pd.DataFrame(studentGroups_courses_data)"
   ]
  },
  {
   "cell_type": "code",
   "execution_count": 62,
   "metadata": {},
   "outputs": [
    {
     "data": {
      "text/html": [
       "<div>\n",
       "<style scoped>\n",
       "    .dataframe tbody tr th:only-of-type {\n",
       "        vertical-align: middle;\n",
       "    }\n",
       "\n",
       "    .dataframe tbody tr th {\n",
       "        vertical-align: top;\n",
       "    }\n",
       "\n",
       "    .dataframe thead th {\n",
       "        text-align: right;\n",
       "    }\n",
       "</style>\n",
       "<table border=\"1\" class=\"dataframe\">\n",
       "  <thead>\n",
       "    <tr style=\"text-align: right;\">\n",
       "      <th></th>\n",
       "      <th>id</th>\n",
       "      <th>name</th>\n",
       "      <th>course_id</th>\n",
       "    </tr>\n",
       "  </thead>\n",
       "  <tbody>\n",
       "    <tr>\n",
       "      <th>0</th>\n",
       "      <td>5284</td>\n",
       "      <td>Bachelor's Degree Programme in Logistics</td>\n",
       "      <td>TLLY3500-3009</td>\n",
       "    </tr>\n",
       "    <tr>\n",
       "      <th>1</th>\n",
       "      <td>22411</td>\n",
       "      <td>Bachelor's Degree Programme in Purchasing and ...</td>\n",
       "      <td>ZZPP0520-3210</td>\n",
       "    </tr>\n",
       "    <tr>\n",
       "      <th>2</th>\n",
       "      <td>82940</td>\n",
       "      <td>Bachelor's Degree Programme in Information and...</td>\n",
       "      <td>TTC2070-3016</td>\n",
       "    </tr>\n",
       "    <tr>\n",
       "      <th>3</th>\n",
       "      <td>5290</td>\n",
       "      <td>Bachelor's Degree Programme in Information and...</td>\n",
       "      <td>TTC2070-3016</td>\n",
       "    </tr>\n",
       "    <tr>\n",
       "      <th>4</th>\n",
       "      <td>5265</td>\n",
       "      <td>Bachelor's Degree Programme in Nursing</td>\n",
       "      <td>SWNSW205-3003</td>\n",
       "    </tr>\n",
       "  </tbody>\n",
       "</table>\n",
       "</div>"
      ],
      "text/plain": [
       "      id                                               name      course_id\n",
       "0   5284           Bachelor's Degree Programme in Logistics  TLLY3500-3009\n",
       "1  22411  Bachelor's Degree Programme in Purchasing and ...  ZZPP0520-3210\n",
       "2  82940  Bachelor's Degree Programme in Information and...   TTC2070-3016\n",
       "3   5290  Bachelor's Degree Programme in Information and...   TTC2070-3016\n",
       "4   5265             Bachelor's Degree Programme in Nursing  SWNSW205-3003"
      ]
     },
     "execution_count": 62,
     "metadata": {},
     "output_type": "execute_result"
    }
   ],
   "source": [
    "degree_programmes_df.head()"
   ]
  },
  {
   "cell_type": "code",
   "execution_count": 63,
   "metadata": {},
   "outputs": [
    {
     "data": {
      "text/html": [
       "<div>\n",
       "<style scoped>\n",
       "    .dataframe tbody tr th:only-of-type {\n",
       "        vertical-align: middle;\n",
       "    }\n",
       "\n",
       "    .dataframe tbody tr th {\n",
       "        vertical-align: top;\n",
       "    }\n",
       "\n",
       "    .dataframe thead th {\n",
       "        text-align: right;\n",
       "    }\n",
       "</style>\n",
       "<table border=\"1\" class=\"dataframe\">\n",
       "  <thead>\n",
       "    <tr style=\"text-align: right;\">\n",
       "      <th></th>\n",
       "      <th>id</th>\n",
       "      <th>code</th>\n",
       "      <th>name</th>\n",
       "      <th>type_name</th>\n",
       "      <th>course_id</th>\n",
       "    </tr>\n",
       "  </thead>\n",
       "  <tbody>\n",
       "    <tr>\n",
       "      <th>0</th>\n",
       "      <td>143487</td>\n",
       "      <td>ZJATLS23SMM</td>\n",
       "      <td>Avoin amk, Logistiikka, Monimuoto</td>\n",
       "      <td>StudentGroup</td>\n",
       "      <td>TLLY3500-3009</td>\n",
       "    </tr>\n",
       "    <tr>\n",
       "      <th>1</th>\n",
       "      <td>131534</td>\n",
       "      <td>TLS23SMM</td>\n",
       "      <td>Logistiikka - tutkinto-ohjelma (AMK)</td>\n",
       "      <td>StudentGroup</td>\n",
       "      <td>TLLY3500-3009</td>\n",
       "    </tr>\n",
       "    <tr>\n",
       "      <th>2</th>\n",
       "      <td>143480</td>\n",
       "      <td>ZJATLP23S1</td>\n",
       "      <td>Avoin amk, Purchasing and Logistics Engineerin...</td>\n",
       "      <td>StudentGroup</td>\n",
       "      <td>ZZPP0520-3210</td>\n",
       "    </tr>\n",
       "    <tr>\n",
       "      <th>3</th>\n",
       "      <td>131506</td>\n",
       "      <td>TLP23S1</td>\n",
       "      <td>Bachelor's Degree Programme in Purchasing and ...</td>\n",
       "      <td>StudentGroup</td>\n",
       "      <td>ZZPP0520-3210</td>\n",
       "    </tr>\n",
       "    <tr>\n",
       "      <th>4</th>\n",
       "      <td>119696</td>\n",
       "      <td>TTV22S5</td>\n",
       "      <td>Tieto- ja viestintätekniikka (AMK)</td>\n",
       "      <td>StudentGroup</td>\n",
       "      <td>TTC2070-3016</td>\n",
       "    </tr>\n",
       "  </tbody>\n",
       "</table>\n",
       "</div>"
      ],
      "text/plain": [
       "       id         code                                               name  \\\n",
       "0  143487  ZJATLS23SMM                  Avoin amk, Logistiikka, Monimuoto   \n",
       "1  131534     TLS23SMM               Logistiikka - tutkinto-ohjelma (AMK)   \n",
       "2  143480   ZJATLP23S1  Avoin amk, Purchasing and Logistics Engineerin...   \n",
       "3  131506      TLP23S1  Bachelor's Degree Programme in Purchasing and ...   \n",
       "4  119696      TTV22S5                 Tieto- ja viestintätekniikka (AMK)   \n",
       "\n",
       "      type_name      course_id  \n",
       "0  StudentGroup  TLLY3500-3009  \n",
       "1  StudentGroup  TLLY3500-3009  \n",
       "2  StudentGroup  ZZPP0520-3210  \n",
       "3  StudentGroup  ZZPP0520-3210  \n",
       "4  StudentGroup   TTC2070-3016  "
      ]
     },
     "execution_count": 63,
     "metadata": {},
     "output_type": "execute_result"
    }
   ],
   "source": [
    "student_groups_df.head()"
   ]
  },
  {
   "cell_type": "code",
   "execution_count": 64,
   "metadata": {},
   "outputs": [
    {
     "data": {
      "text/plain": [
       "array(['StudentGroup'], dtype=object)"
      ]
     },
     "execution_count": 64,
     "metadata": {},
     "output_type": "execute_result"
    }
   ],
   "source": [
    "student_groups_df['type_name'].unique()"
   ]
  },
  {
   "cell_type": "markdown",
   "metadata": {},
   "source": [
    "Dropping `type_name` column from `student_groups_df` as it's always the same. Also dropping `degreeProgrammes` and `studentGroups` from `courses_df` as they now have their own dataframes."
   ]
  },
  {
   "cell_type": "code",
   "execution_count": 65,
   "metadata": {},
   "outputs": [],
   "source": [
    "student_groups_df.drop(columns=['type_name'], inplace=True)\n",
    "courses_df.drop(columns=['degreeProgrammes', 'studentGroups'], inplace=True)"
   ]
  },
  {
   "cell_type": "code",
   "execution_count": 66,
   "metadata": {},
   "outputs": [
    {
     "data": {
      "text/html": [
       "<div>\n",
       "<style scoped>\n",
       "    .dataframe tbody tr th:only-of-type {\n",
       "        vertical-align: middle;\n",
       "    }\n",
       "\n",
       "    .dataframe tbody tr th {\n",
       "        vertical-align: top;\n",
       "    }\n",
       "\n",
       "    .dataframe thead th {\n",
       "        text-align: right;\n",
       "    }\n",
       "</style>\n",
       "<table border=\"1\" class=\"dataframe\">\n",
       "  <thead>\n",
       "    <tr style=\"text-align: right;\">\n",
       "      <th></th>\n",
       "      <th>id</th>\n",
       "      <th>title</th>\n",
       "      <th>credits</th>\n",
       "      <th>type_name</th>\n",
       "      <th>timing_start</th>\n",
       "      <th>timing_end</th>\n",
       "      <th>enrollment_start</th>\n",
       "      <th>enrollment_end</th>\n",
       "    </tr>\n",
       "  </thead>\n",
       "  <tbody>\n",
       "    <tr>\n",
       "      <th>0</th>\n",
       "      <td>TLLY3500-3009</td>\n",
       "      <td>Logistics Simulations</td>\n",
       "      <td>5</td>\n",
       "      <td>Realization</td>\n",
       "      <td>2024-01-08</td>\n",
       "      <td>2024-05-20</td>\n",
       "      <td>2023-11-20</td>\n",
       "      <td>2024-01-04</td>\n",
       "    </tr>\n",
       "    <tr>\n",
       "      <th>1</th>\n",
       "      <td>ZZPP0520-3210</td>\n",
       "      <td>Development as an Expert</td>\n",
       "      <td>5</td>\n",
       "      <td>Realization</td>\n",
       "      <td>2023-08-21</td>\n",
       "      <td>2026-07-31</td>\n",
       "      <td>2023-08-01</td>\n",
       "      <td>2023-08-24</td>\n",
       "    </tr>\n",
       "    <tr>\n",
       "      <th>2</th>\n",
       "      <td>TTC2070-3016</td>\n",
       "      <td>Project Management and Practices</td>\n",
       "      <td>4</td>\n",
       "      <td>Realization</td>\n",
       "      <td>2023-08-28</td>\n",
       "      <td>2023-12-11</td>\n",
       "      <td>2023-08-01</td>\n",
       "      <td>2023-08-24</td>\n",
       "    </tr>\n",
       "    <tr>\n",
       "      <th>3</th>\n",
       "      <td>SWNSW205-3003</td>\n",
       "      <td>Practice in Perioperative Nursing</td>\n",
       "      <td>6</td>\n",
       "      <td>Realization</td>\n",
       "      <td>2023-08-08</td>\n",
       "      <td>2024-05-19</td>\n",
       "      <td>2023-08-01</td>\n",
       "      <td>2023-08-24</td>\n",
       "    </tr>\n",
       "    <tr>\n",
       "      <th>4</th>\n",
       "      <td>TLTT6500-3011</td>\n",
       "      <td>Logistics Information Technology</td>\n",
       "      <td>5</td>\n",
       "      <td>Realization</td>\n",
       "      <td>2024-01-08</td>\n",
       "      <td>2024-05-20</td>\n",
       "      <td>2023-11-20</td>\n",
       "      <td>2024-01-04</td>\n",
       "    </tr>\n",
       "  </tbody>\n",
       "</table>\n",
       "</div>"
      ],
      "text/plain": [
       "              id                              title  credits    type_name  \\\n",
       "0  TLLY3500-3009              Logistics Simulations        5  Realization   \n",
       "1  ZZPP0520-3210           Development as an Expert        5  Realization   \n",
       "2   TTC2070-3016   Project Management and Practices        4  Realization   \n",
       "3  SWNSW205-3003  Practice in Perioperative Nursing        6  Realization   \n",
       "4  TLTT6500-3011   Logistics Information Technology        5  Realization   \n",
       "\n",
       "  timing_start  timing_end enrollment_start enrollment_end  \n",
       "0   2024-01-08  2024-05-20       2023-11-20     2024-01-04  \n",
       "1   2023-08-21  2026-07-31       2023-08-01     2023-08-24  \n",
       "2   2023-08-28  2023-12-11       2023-08-01     2023-08-24  \n",
       "3   2023-08-08  2024-05-19       2023-08-01     2023-08-24  \n",
       "4   2024-01-08  2024-05-20       2023-11-20     2024-01-04  "
      ]
     },
     "execution_count": 66,
     "metadata": {},
     "output_type": "execute_result"
    }
   ],
   "source": [
    "courses_df.head()"
   ]
  }
 ],
 "metadata": {
  "kernelspec": {
   "display_name": "study-search-data",
   "language": "python",
   "name": "python3"
  },
  "language_info": {
   "codemirror_mode": {
    "name": "ipython",
    "version": 3
   },
   "file_extension": ".py",
   "mimetype": "text/x-python",
   "name": "python",
   "nbconvert_exporter": "python",
   "pygments_lexer": "ipython3",
   "version": "3.12.0"
  }
 },
 "nbformat": 4,
 "nbformat_minor": 2
}
